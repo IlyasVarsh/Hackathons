{
  "nbformat": 4,
  "nbformat_minor": 0,
  "metadata": {
    "colab": {
      "provenance": [],
      "gpuType": "V28",
      "toc_visible": true,
      "authorship_tag": "ABX9TyOO5U6LTF91r5fcNu7hzmPP"
    },
    "kernelspec": {
      "name": "python3",
      "display_name": "Python 3"
    },
    "language_info": {
      "name": "python"
    },
    "accelerator": "TPU"
  },
  "cells": [
    {
      "cell_type": "code",
      "execution_count": null,
      "metadata": {
        "id": "X21-F2sQWi1-"
      },
      "outputs": [],
      "source": [
        "import numpy as np\n",
        "import pandas as pd\n",
        "\n",
        "import os\n",
        "import pprint\n",
        "import tempfile\n",
        "\n",
        "from typing import Dict, Text\n",
        "\n",
        "import numpy as np\n",
        "import tensorflow as tf\n",
        "\n",
        "!pip install -q implicit\n",
        "\n",
        "from itertools import islice, cycle\n",
        "from more_itertools import pairwise\n",
        "from implicit.nearest_neighbours import TFIDFRecommender\n",
        "\n",
        "!pip install -q tensorflow-recommenders\n",
        "\n",
        "import tensorflow_recommenders as tfrs"
      ]
    },
    {
      "cell_type": "code",
      "source": [
        "import ast"
      ],
      "metadata": {
        "id": "DJuUJoUoSwIy"
      },
      "execution_count": null,
      "outputs": []
    },
    {
      "cell_type": "code",
      "source": [
        "from google.colab import drive\n",
        "drive.mount('/content/drive')"
      ],
      "metadata": {
        "colab": {
          "base_uri": "https://localhost:8080/"
        },
        "id": "W2W8RzpZXe-C",
        "outputId": "83d4085c-d844-4161-b8bf-1a2f43c646fd"
      },
      "execution_count": null,
      "outputs": [
        {
          "output_type": "stream",
          "name": "stdout",
          "text": [
            "Drive already mounted at /content/drive; to attempt to forcibly remount, call drive.mount(\"/content/drive\", force_remount=True).\n"
          ]
        }
      ]
    },
    {
      "cell_type": "markdown",
      "source": [
        "# Load Data"
      ],
      "metadata": {
        "id": "k2_rLwJSXcA8"
      }
    },
    {
      "cell_type": "code",
      "source": [
        "users_df = pd.read_csv(r\"/content/drive/My Drive/DDH_2024/1_Task/data/preprocessed/users.csv\")\n",
        "inter_df = pd.read_csv(r\"/content/drive/My Drive/DDH_2024/1_Task/data/preprocessed/interactions.csv\")\n",
        "items_df = pd.read_csv(r\"/content/drive/My Drive/DDH_2024/1_Task/data/preprocessed/items.csv\")"
      ],
      "metadata": {
        "id": "N7Bcn5dnXadE"
      },
      "execution_count": null,
      "outputs": []
    },
    {
      "cell_type": "code",
      "source": [
        "inter_df=inter_df.astype('str')\n",
        "items_df=items_df.astype('str')"
      ],
      "metadata": {
        "id": "VpVJyN0UXprW"
      },
      "execution_count": null,
      "outputs": []
    },
    {
      "cell_type": "code",
      "source": [
        "inter_df = pd.merge(inter_df, items_df, on=\"item_id\")\n",
        "inter_df=inter_df.astype('str')"
      ],
      "metadata": {
        "id": "hUlmcU75LL0X"
      },
      "execution_count": null,
      "outputs": []
    },
    {
      "cell_type": "code",
      "source": [
        "inter_df"
      ],
      "metadata": {
        "colab": {
          "base_uri": "https://localhost:8080/",
          "height": 1000
        },
        "id": "aOFbh_yx66_T",
        "outputId": "16c60b3e-7a03-41a9-8e4d-bb22fe7abb66"
      },
      "execution_count": null,
      "outputs": [
        {
          "output_type": "execute_result",
          "data": {
            "text/plain": [
              "        user_id item_id last_watch_dt total_dur watched_pct content_type  \\\n",
              "0        176549    9506    2021-05-11      4250        72.0         film   \n",
              "1        964868    9506    2021-04-30      6725       100.0         film   \n",
              "2        450170    9506    2021-07-18       848        14.0         film   \n",
              "3        683820    9506    2021-06-28      2617        44.0         film   \n",
              "4        657320    9506    2021-06-18      1070        18.0         film   \n",
              "...         ...     ...           ...       ...         ...          ...   \n",
              "4027317  352033    9125    2021-05-12      4431        19.0       series   \n",
              "4027318  619743   13516    2021-07-11     14985        27.0       series   \n",
              "4027319  797948    8030    2021-04-20       792        14.0         film   \n",
              "4027320  846909   13019    2021-03-13        10         0.0         film   \n",
              "4027321  811562   14843    2021-05-03      1389        28.0         film   \n",
              "\n",
              "                                title_orig release_year  \\\n",
              "0                                   Frozen       2013.0   \n",
              "1                                   Frozen       2013.0   \n",
              "2                                   Frozen       2013.0   \n",
              "3                                   Frozen       2013.0   \n",
              "4                                   Frozen       2013.0   \n",
              "...                                    ...          ...   \n",
              "4027317  The Adventures of Rasmus the Bear       2018.0   \n",
              "4027318                           Animals.       2016.0   \n",
              "4027319                        Madame Hyde       2017.0   \n",
              "4027320          Joséphine (Sign Language)       2013.0   \n",
              "4027321                              Vicky       2015.0   \n",
              "\n",
              "                                                    genres countries  \\\n",
              "0                                fantasy, cartoon, musical       USA   \n",
              "1                                fantasy, cartoon, musical       USA   \n",
              "2                                fantasy, cartoon, musical       USA   \n",
              "3                                fantasy, cartoon, musical       USA   \n",
              "4                                fantasy, cartoon, musical       USA   \n",
              "...                                                    ...       ...   \n",
              "4027317  children, tv series, adventure, foreign, weste...   Germany   \n",
              "4027318                                  animation, comedy       USA   \n",
              "4027319      science fiction, foreign, comedy, screenplays    France   \n",
              "4027320                                    foreign, comedy    France   \n",
              "4027321                                    foreign, comedy    France   \n",
              "\n",
              "        age_rating                                        description  \\\n",
              "0              0.0  When an ancient prophecy comes true and the ki...   \n",
              "1              0.0  When an ancient prophecy comes true and the ki...   \n",
              "2              0.0  When an ancient prophecy comes true and the ki...   \n",
              "3              0.0  When an ancient prophecy comes true and the ki...   \n",
              "4              0.0  When an ancient prophecy comes true and the ki...   \n",
              "...            ...                                                ...   \n",
              "4027317        0.0  Bear Rasmus is a very active and kind characte...   \n",
              "4027318       18.0  Comedy animated fantasy from the creators of \"...   \n",
              "4027319       16.0  The actress Isabelle Huppert as Madame Jekyll'...   \n",
              "4027320       12.0  When even her sister marries, Josephine breaks...   \n",
              "4027321       16.0  The film was directed by Denis Imberti, and st...   \n",
              "\n",
              "                                                  keywords  \\\n",
              "0        Queen, musical, princess, betrayal, snowman, d...   \n",
              "1        Queen, musical, princess, betrayal, snowman, d...   \n",
              "2        Queen, musical, princess, betrayal, snowman, d...   \n",
              "3        Queen, musical, princess, betrayal, snowman, d...   \n",
              "4        Queen, musical, princess, betrayal, snowman, d...   \n",
              "...                                                    ...   \n",
              "4027317  Adventures, Bear, Rasmus, 2018, Germany, frien...   \n",
              "4027318                                  Beasts, 2016, USA   \n",
              "4027319  Mrs, Hyde, 2017, France, revenge, science, tec...   \n",
              "4027320    Want Like, Bridget, Sign Language, 2013, France   \n",
              "4027321  Vicky, 2015, France, music, transformations, s...   \n",
              "\n",
              "                                         actors_translated  \\\n",
              "0        Kristen Bell, Idina Menzel, Jonathan Groff, Jo...   \n",
              "1        Kristen Bell, Idina Menzel, Jonathan Groff, Jo...   \n",
              "2        Kristen Bell, Idina Menzel, Jonathan Groff, Jo...   \n",
              "3        Kristen Bell, Idina Menzel, Jonathan Groff, Jo...   \n",
              "4        Kristen Bell, Idina Menzel, Jonathan Groff, Jo...   \n",
              "...                                                    ...   \n",
              "4027317  Werner Bönke, Gerald Schaale, Christian Zeiger...   \n",
              "4027318  Catherine Aselton, Mike Luciano, Megan O'Neill...   \n",
              "4027319  Adda Senani, Angela Metzger, Guillaume Verdier...   \n",
              "4027320  Marilou Berry, Mehdi Nebbu, Alice Paul, Berang...   \n",
              "4027321  Benjamin Bellecourt, Benjamin Biolay, Victoria...   \n",
              "\n",
              "                                     actors_transliterated  \\\n",
              "0        Kristen Bell, Idina Menzel, Dzhonatan Groff, D...   \n",
              "1        Kristen Bell, Idina Menzel, Dzhonatan Groff, D...   \n",
              "2        Kristen Bell, Idina Menzel, Dzhonatan Groff, D...   \n",
              "3        Kristen Bell, Idina Menzel, Dzhonatan Groff, D...   \n",
              "4        Kristen Bell, Idina Menzel, Dzhonatan Groff, D...   \n",
              "...                                                    ...   \n",
              "4027317  Verner Benke, Geral'd Shaale, Kristian Tsajger...   \n",
              "4027318  Ketrin Aselton, Majk Luchiano, Megan O’Nill, M...   \n",
              "4027319  Adda Senani, Anzhela Metsger, Gijom Verd'e, Iz...   \n",
              "4027320  Marilu Berri, Mehdi Nebbu, Alis Pol', Beranzhe...   \n",
              "4027321  Benzhamin Bellekur, Benzhamin Biolej, Viktorij...   \n",
              "\n",
              "                                      directors_translated  \\\n",
              "0                                 Chris Buck, Jennifer Lee   \n",
              "1                                 Chris Buck, Jennifer Lee   \n",
              "2                                 Chris Buck, Jennifer Lee   \n",
              "3                                 Chris Buck, Jennifer Lee   \n",
              "4                                 Chris Buck, Jennifer Lee   \n",
              "...                                                    ...   \n",
              "4027317  Johannes Weiland, Carsten Bunte, Michael Bonen...   \n",
              "4027318                        Mike Luciano, Wesley Archer   \n",
              "4027319                                        Serge Bozon   \n",
              "4027320                                        Añez Obadia   \n",
              "4027321                                      Denis Imberti   \n",
              "\n",
              "                                            transliterated  \n",
              "0                                  Kris Bak, Dzhennifer Li  \n",
              "1                                  Kris Bak, Dzhennifer Li  \n",
              "2                                  Kris Bak, Dzhennifer Li  \n",
              "3                                  Kris Bak, Dzhennifer Li  \n",
              "4                                  Kris Bak, Dzhennifer Li  \n",
              "...                                                    ...  \n",
              "4027317  Johannes Vejland, Karsten Bunte, Mihael' Bonen...  \n",
              "4027318                        Majk Luchiano, Uesli Archer  \n",
              "4027319                                        Serzh Bozon  \n",
              "4027320                                      An'es Obad'ja  \n",
              "4027321                                      Denis Imberti  \n",
              "\n",
              "[4027322 rows x 17 columns]"
            ],
            "text/html": [
              "\n",
              "  <div id=\"df-851cbbf2-62f6-4598-8e9c-58914ec5faba\" class=\"colab-df-container\">\n",
              "    <div>\n",
              "<style scoped>\n",
              "    .dataframe tbody tr th:only-of-type {\n",
              "        vertical-align: middle;\n",
              "    }\n",
              "\n",
              "    .dataframe tbody tr th {\n",
              "        vertical-align: top;\n",
              "    }\n",
              "\n",
              "    .dataframe thead th {\n",
              "        text-align: right;\n",
              "    }\n",
              "</style>\n",
              "<table border=\"1\" class=\"dataframe\">\n",
              "  <thead>\n",
              "    <tr style=\"text-align: right;\">\n",
              "      <th></th>\n",
              "      <th>user_id</th>\n",
              "      <th>item_id</th>\n",
              "      <th>last_watch_dt</th>\n",
              "      <th>total_dur</th>\n",
              "      <th>watched_pct</th>\n",
              "      <th>content_type</th>\n",
              "      <th>title_orig</th>\n",
              "      <th>release_year</th>\n",
              "      <th>genres</th>\n",
              "      <th>countries</th>\n",
              "      <th>age_rating</th>\n",
              "      <th>description</th>\n",
              "      <th>keywords</th>\n",
              "      <th>actors_translated</th>\n",
              "      <th>actors_transliterated</th>\n",
              "      <th>directors_translated</th>\n",
              "      <th>transliterated</th>\n",
              "    </tr>\n",
              "  </thead>\n",
              "  <tbody>\n",
              "    <tr>\n",
              "      <th>0</th>\n",
              "      <td>176549</td>\n",
              "      <td>9506</td>\n",
              "      <td>2021-05-11</td>\n",
              "      <td>4250</td>\n",
              "      <td>72.0</td>\n",
              "      <td>film</td>\n",
              "      <td>Frozen</td>\n",
              "      <td>2013.0</td>\n",
              "      <td>fantasy, cartoon, musical</td>\n",
              "      <td>USA</td>\n",
              "      <td>0.0</td>\n",
              "      <td>When an ancient prophecy comes true and the ki...</td>\n",
              "      <td>Queen, musical, princess, betrayal, snowman, d...</td>\n",
              "      <td>Kristen Bell, Idina Menzel, Jonathan Groff, Jo...</td>\n",
              "      <td>Kristen Bell, Idina Menzel, Dzhonatan Groff, D...</td>\n",
              "      <td>Chris Buck, Jennifer Lee</td>\n",
              "      <td>Kris Bak, Dzhennifer Li</td>\n",
              "    </tr>\n",
              "    <tr>\n",
              "      <th>1</th>\n",
              "      <td>964868</td>\n",
              "      <td>9506</td>\n",
              "      <td>2021-04-30</td>\n",
              "      <td>6725</td>\n",
              "      <td>100.0</td>\n",
              "      <td>film</td>\n",
              "      <td>Frozen</td>\n",
              "      <td>2013.0</td>\n",
              "      <td>fantasy, cartoon, musical</td>\n",
              "      <td>USA</td>\n",
              "      <td>0.0</td>\n",
              "      <td>When an ancient prophecy comes true and the ki...</td>\n",
              "      <td>Queen, musical, princess, betrayal, snowman, d...</td>\n",
              "      <td>Kristen Bell, Idina Menzel, Jonathan Groff, Jo...</td>\n",
              "      <td>Kristen Bell, Idina Menzel, Dzhonatan Groff, D...</td>\n",
              "      <td>Chris Buck, Jennifer Lee</td>\n",
              "      <td>Kris Bak, Dzhennifer Li</td>\n",
              "    </tr>\n",
              "    <tr>\n",
              "      <th>2</th>\n",
              "      <td>450170</td>\n",
              "      <td>9506</td>\n",
              "      <td>2021-07-18</td>\n",
              "      <td>848</td>\n",
              "      <td>14.0</td>\n",
              "      <td>film</td>\n",
              "      <td>Frozen</td>\n",
              "      <td>2013.0</td>\n",
              "      <td>fantasy, cartoon, musical</td>\n",
              "      <td>USA</td>\n",
              "      <td>0.0</td>\n",
              "      <td>When an ancient prophecy comes true and the ki...</td>\n",
              "      <td>Queen, musical, princess, betrayal, snowman, d...</td>\n",
              "      <td>Kristen Bell, Idina Menzel, Jonathan Groff, Jo...</td>\n",
              "      <td>Kristen Bell, Idina Menzel, Dzhonatan Groff, D...</td>\n",
              "      <td>Chris Buck, Jennifer Lee</td>\n",
              "      <td>Kris Bak, Dzhennifer Li</td>\n",
              "    </tr>\n",
              "    <tr>\n",
              "      <th>3</th>\n",
              "      <td>683820</td>\n",
              "      <td>9506</td>\n",
              "      <td>2021-06-28</td>\n",
              "      <td>2617</td>\n",
              "      <td>44.0</td>\n",
              "      <td>film</td>\n",
              "      <td>Frozen</td>\n",
              "      <td>2013.0</td>\n",
              "      <td>fantasy, cartoon, musical</td>\n",
              "      <td>USA</td>\n",
              "      <td>0.0</td>\n",
              "      <td>When an ancient prophecy comes true and the ki...</td>\n",
              "      <td>Queen, musical, princess, betrayal, snowman, d...</td>\n",
              "      <td>Kristen Bell, Idina Menzel, Jonathan Groff, Jo...</td>\n",
              "      <td>Kristen Bell, Idina Menzel, Dzhonatan Groff, D...</td>\n",
              "      <td>Chris Buck, Jennifer Lee</td>\n",
              "      <td>Kris Bak, Dzhennifer Li</td>\n",
              "    </tr>\n",
              "    <tr>\n",
              "      <th>4</th>\n",
              "      <td>657320</td>\n",
              "      <td>9506</td>\n",
              "      <td>2021-06-18</td>\n",
              "      <td>1070</td>\n",
              "      <td>18.0</td>\n",
              "      <td>film</td>\n",
              "      <td>Frozen</td>\n",
              "      <td>2013.0</td>\n",
              "      <td>fantasy, cartoon, musical</td>\n",
              "      <td>USA</td>\n",
              "      <td>0.0</td>\n",
              "      <td>When an ancient prophecy comes true and the ki...</td>\n",
              "      <td>Queen, musical, princess, betrayal, snowman, d...</td>\n",
              "      <td>Kristen Bell, Idina Menzel, Jonathan Groff, Jo...</td>\n",
              "      <td>Kristen Bell, Idina Menzel, Dzhonatan Groff, D...</td>\n",
              "      <td>Chris Buck, Jennifer Lee</td>\n",
              "      <td>Kris Bak, Dzhennifer Li</td>\n",
              "    </tr>\n",
              "    <tr>\n",
              "      <th>...</th>\n",
              "      <td>...</td>\n",
              "      <td>...</td>\n",
              "      <td>...</td>\n",
              "      <td>...</td>\n",
              "      <td>...</td>\n",
              "      <td>...</td>\n",
              "      <td>...</td>\n",
              "      <td>...</td>\n",
              "      <td>...</td>\n",
              "      <td>...</td>\n",
              "      <td>...</td>\n",
              "      <td>...</td>\n",
              "      <td>...</td>\n",
              "      <td>...</td>\n",
              "      <td>...</td>\n",
              "      <td>...</td>\n",
              "      <td>...</td>\n",
              "    </tr>\n",
              "    <tr>\n",
              "      <th>4027317</th>\n",
              "      <td>352033</td>\n",
              "      <td>9125</td>\n",
              "      <td>2021-05-12</td>\n",
              "      <td>4431</td>\n",
              "      <td>19.0</td>\n",
              "      <td>series</td>\n",
              "      <td>The Adventures of Rasmus the Bear</td>\n",
              "      <td>2018.0</td>\n",
              "      <td>children, tv series, adventure, foreign, weste...</td>\n",
              "      <td>Germany</td>\n",
              "      <td>0.0</td>\n",
              "      <td>Bear Rasmus is a very active and kind characte...</td>\n",
              "      <td>Adventures, Bear, Rasmus, 2018, Germany, frien...</td>\n",
              "      <td>Werner Bönke, Gerald Schaale, Christian Zeiger...</td>\n",
              "      <td>Verner Benke, Geral'd Shaale, Kristian Tsajger...</td>\n",
              "      <td>Johannes Weiland, Carsten Bunte, Michael Bonen...</td>\n",
              "      <td>Johannes Vejland, Karsten Bunte, Mihael' Bonen...</td>\n",
              "    </tr>\n",
              "    <tr>\n",
              "      <th>4027318</th>\n",
              "      <td>619743</td>\n",
              "      <td>13516</td>\n",
              "      <td>2021-07-11</td>\n",
              "      <td>14985</td>\n",
              "      <td>27.0</td>\n",
              "      <td>series</td>\n",
              "      <td>Animals.</td>\n",
              "      <td>2016.0</td>\n",
              "      <td>animation, comedy</td>\n",
              "      <td>USA</td>\n",
              "      <td>18.0</td>\n",
              "      <td>Comedy animated fantasy from the creators of \"...</td>\n",
              "      <td>Beasts, 2016, USA</td>\n",
              "      <td>Catherine Aselton, Mike Luciano, Megan O'Neill...</td>\n",
              "      <td>Ketrin Aselton, Majk Luchiano, Megan O’Nill, M...</td>\n",
              "      <td>Mike Luciano, Wesley Archer</td>\n",
              "      <td>Majk Luchiano, Uesli Archer</td>\n",
              "    </tr>\n",
              "    <tr>\n",
              "      <th>4027319</th>\n",
              "      <td>797948</td>\n",
              "      <td>8030</td>\n",
              "      <td>2021-04-20</td>\n",
              "      <td>792</td>\n",
              "      <td>14.0</td>\n",
              "      <td>film</td>\n",
              "      <td>Madame Hyde</td>\n",
              "      <td>2017.0</td>\n",
              "      <td>science fiction, foreign, comedy, screenplays</td>\n",
              "      <td>France</td>\n",
              "      <td>16.0</td>\n",
              "      <td>The actress Isabelle Huppert as Madame Jekyll'...</td>\n",
              "      <td>Mrs, Hyde, 2017, France, revenge, science, tec...</td>\n",
              "      <td>Adda Senani, Angela Metzger, Guillaume Verdier...</td>\n",
              "      <td>Adda Senani, Anzhela Metsger, Gijom Verd'e, Iz...</td>\n",
              "      <td>Serge Bozon</td>\n",
              "      <td>Serzh Bozon</td>\n",
              "    </tr>\n",
              "    <tr>\n",
              "      <th>4027320</th>\n",
              "      <td>846909</td>\n",
              "      <td>13019</td>\n",
              "      <td>2021-03-13</td>\n",
              "      <td>10</td>\n",
              "      <td>0.0</td>\n",
              "      <td>film</td>\n",
              "      <td>Joséphine (Sign Language)</td>\n",
              "      <td>2013.0</td>\n",
              "      <td>foreign, comedy</td>\n",
              "      <td>France</td>\n",
              "      <td>12.0</td>\n",
              "      <td>When even her sister marries, Josephine breaks...</td>\n",
              "      <td>Want Like, Bridget, Sign Language, 2013, France</td>\n",
              "      <td>Marilou Berry, Mehdi Nebbu, Alice Paul, Berang...</td>\n",
              "      <td>Marilu Berri, Mehdi Nebbu, Alis Pol', Beranzhe...</td>\n",
              "      <td>Añez Obadia</td>\n",
              "      <td>An'es Obad'ja</td>\n",
              "    </tr>\n",
              "    <tr>\n",
              "      <th>4027321</th>\n",
              "      <td>811562</td>\n",
              "      <td>14843</td>\n",
              "      <td>2021-05-03</td>\n",
              "      <td>1389</td>\n",
              "      <td>28.0</td>\n",
              "      <td>film</td>\n",
              "      <td>Vicky</td>\n",
              "      <td>2015.0</td>\n",
              "      <td>foreign, comedy</td>\n",
              "      <td>France</td>\n",
              "      <td>16.0</td>\n",
              "      <td>The film was directed by Denis Imberti, and st...</td>\n",
              "      <td>Vicky, 2015, France, music, transformations, s...</td>\n",
              "      <td>Benjamin Bellecourt, Benjamin Biolay, Victoria...</td>\n",
              "      <td>Benzhamin Bellekur, Benzhamin Biolej, Viktorij...</td>\n",
              "      <td>Denis Imberti</td>\n",
              "      <td>Denis Imberti</td>\n",
              "    </tr>\n",
              "  </tbody>\n",
              "</table>\n",
              "<p>4027322 rows × 17 columns</p>\n",
              "</div>\n",
              "    <div class=\"colab-df-buttons\">\n",
              "\n",
              "  <div class=\"colab-df-container\">\n",
              "    <button class=\"colab-df-convert\" onclick=\"convertToInteractive('df-851cbbf2-62f6-4598-8e9c-58914ec5faba')\"\n",
              "            title=\"Convert this dataframe to an interactive table.\"\n",
              "            style=\"display:none;\">\n",
              "\n",
              "  <svg xmlns=\"http://www.w3.org/2000/svg\" height=\"24px\" viewBox=\"0 -960 960 960\">\n",
              "    <path d=\"M120-120v-720h720v720H120Zm60-500h600v-160H180v160Zm220 220h160v-160H400v160Zm0 220h160v-160H400v160ZM180-400h160v-160H180v160Zm440 0h160v-160H620v160ZM180-180h160v-160H180v160Zm440 0h160v-160H620v160Z\"/>\n",
              "  </svg>\n",
              "    </button>\n",
              "\n",
              "  <style>\n",
              "    .colab-df-container {\n",
              "      display:flex;\n",
              "      gap: 12px;\n",
              "    }\n",
              "\n",
              "    .colab-df-convert {\n",
              "      background-color: #E8F0FE;\n",
              "      border: none;\n",
              "      border-radius: 50%;\n",
              "      cursor: pointer;\n",
              "      display: none;\n",
              "      fill: #1967D2;\n",
              "      height: 32px;\n",
              "      padding: 0 0 0 0;\n",
              "      width: 32px;\n",
              "    }\n",
              "\n",
              "    .colab-df-convert:hover {\n",
              "      background-color: #E2EBFA;\n",
              "      box-shadow: 0px 1px 2px rgba(60, 64, 67, 0.3), 0px 1px 3px 1px rgba(60, 64, 67, 0.15);\n",
              "      fill: #174EA6;\n",
              "    }\n",
              "\n",
              "    .colab-df-buttons div {\n",
              "      margin-bottom: 4px;\n",
              "    }\n",
              "\n",
              "    [theme=dark] .colab-df-convert {\n",
              "      background-color: #3B4455;\n",
              "      fill: #D2E3FC;\n",
              "    }\n",
              "\n",
              "    [theme=dark] .colab-df-convert:hover {\n",
              "      background-color: #434B5C;\n",
              "      box-shadow: 0px 1px 3px 1px rgba(0, 0, 0, 0.15);\n",
              "      filter: drop-shadow(0px 1px 2px rgba(0, 0, 0, 0.3));\n",
              "      fill: #FFFFFF;\n",
              "    }\n",
              "  </style>\n",
              "\n",
              "    <script>\n",
              "      const buttonEl =\n",
              "        document.querySelector('#df-851cbbf2-62f6-4598-8e9c-58914ec5faba button.colab-df-convert');\n",
              "      buttonEl.style.display =\n",
              "        google.colab.kernel.accessAllowed ? 'block' : 'none';\n",
              "\n",
              "      async function convertToInteractive(key) {\n",
              "        const element = document.querySelector('#df-851cbbf2-62f6-4598-8e9c-58914ec5faba');\n",
              "        const dataTable =\n",
              "          await google.colab.kernel.invokeFunction('convertToInteractive',\n",
              "                                                    [key], {});\n",
              "        if (!dataTable) return;\n",
              "\n",
              "        const docLinkHtml = 'Like what you see? Visit the ' +\n",
              "          '<a target=\"_blank\" href=https://colab.research.google.com/notebooks/data_table.ipynb>data table notebook</a>'\n",
              "          + ' to learn more about interactive tables.';\n",
              "        element.innerHTML = '';\n",
              "        dataTable['output_type'] = 'display_data';\n",
              "        await google.colab.output.renderOutput(dataTable, element);\n",
              "        const docLink = document.createElement('div');\n",
              "        docLink.innerHTML = docLinkHtml;\n",
              "        element.appendChild(docLink);\n",
              "      }\n",
              "    </script>\n",
              "  </div>\n",
              "\n",
              "\n",
              "<div id=\"df-aa1e0a9d-1912-4367-83ba-af5ab096cc57\">\n",
              "  <button class=\"colab-df-quickchart\" onclick=\"quickchart('df-aa1e0a9d-1912-4367-83ba-af5ab096cc57')\"\n",
              "            title=\"Suggest charts\"\n",
              "            style=\"display:none;\">\n",
              "\n",
              "<svg xmlns=\"http://www.w3.org/2000/svg\" height=\"24px\"viewBox=\"0 0 24 24\"\n",
              "     width=\"24px\">\n",
              "    <g>\n",
              "        <path d=\"M19 3H5c-1.1 0-2 .9-2 2v14c0 1.1.9 2 2 2h14c1.1 0 2-.9 2-2V5c0-1.1-.9-2-2-2zM9 17H7v-7h2v7zm4 0h-2V7h2v10zm4 0h-2v-4h2v4z\"/>\n",
              "    </g>\n",
              "</svg>\n",
              "  </button>\n",
              "\n",
              "<style>\n",
              "  .colab-df-quickchart {\n",
              "      --bg-color: #E8F0FE;\n",
              "      --fill-color: #1967D2;\n",
              "      --hover-bg-color: #E2EBFA;\n",
              "      --hover-fill-color: #174EA6;\n",
              "      --disabled-fill-color: #AAA;\n",
              "      --disabled-bg-color: #DDD;\n",
              "  }\n",
              "\n",
              "  [theme=dark] .colab-df-quickchart {\n",
              "      --bg-color: #3B4455;\n",
              "      --fill-color: #D2E3FC;\n",
              "      --hover-bg-color: #434B5C;\n",
              "      --hover-fill-color: #FFFFFF;\n",
              "      --disabled-bg-color: #3B4455;\n",
              "      --disabled-fill-color: #666;\n",
              "  }\n",
              "\n",
              "  .colab-df-quickchart {\n",
              "    background-color: var(--bg-color);\n",
              "    border: none;\n",
              "    border-radius: 50%;\n",
              "    cursor: pointer;\n",
              "    display: none;\n",
              "    fill: var(--fill-color);\n",
              "    height: 32px;\n",
              "    padding: 0;\n",
              "    width: 32px;\n",
              "  }\n",
              "\n",
              "  .colab-df-quickchart:hover {\n",
              "    background-color: var(--hover-bg-color);\n",
              "    box-shadow: 0 1px 2px rgba(60, 64, 67, 0.3), 0 1px 3px 1px rgba(60, 64, 67, 0.15);\n",
              "    fill: var(--button-hover-fill-color);\n",
              "  }\n",
              "\n",
              "  .colab-df-quickchart-complete:disabled,\n",
              "  .colab-df-quickchart-complete:disabled:hover {\n",
              "    background-color: var(--disabled-bg-color);\n",
              "    fill: var(--disabled-fill-color);\n",
              "    box-shadow: none;\n",
              "  }\n",
              "\n",
              "  .colab-df-spinner {\n",
              "    border: 2px solid var(--fill-color);\n",
              "    border-color: transparent;\n",
              "    border-bottom-color: var(--fill-color);\n",
              "    animation:\n",
              "      spin 1s steps(1) infinite;\n",
              "  }\n",
              "\n",
              "  @keyframes spin {\n",
              "    0% {\n",
              "      border-color: transparent;\n",
              "      border-bottom-color: var(--fill-color);\n",
              "      border-left-color: var(--fill-color);\n",
              "    }\n",
              "    20% {\n",
              "      border-color: transparent;\n",
              "      border-left-color: var(--fill-color);\n",
              "      border-top-color: var(--fill-color);\n",
              "    }\n",
              "    30% {\n",
              "      border-color: transparent;\n",
              "      border-left-color: var(--fill-color);\n",
              "      border-top-color: var(--fill-color);\n",
              "      border-right-color: var(--fill-color);\n",
              "    }\n",
              "    40% {\n",
              "      border-color: transparent;\n",
              "      border-right-color: var(--fill-color);\n",
              "      border-top-color: var(--fill-color);\n",
              "    }\n",
              "    60% {\n",
              "      border-color: transparent;\n",
              "      border-right-color: var(--fill-color);\n",
              "    }\n",
              "    80% {\n",
              "      border-color: transparent;\n",
              "      border-right-color: var(--fill-color);\n",
              "      border-bottom-color: var(--fill-color);\n",
              "    }\n",
              "    90% {\n",
              "      border-color: transparent;\n",
              "      border-bottom-color: var(--fill-color);\n",
              "    }\n",
              "  }\n",
              "</style>\n",
              "\n",
              "  <script>\n",
              "    async function quickchart(key) {\n",
              "      const quickchartButtonEl =\n",
              "        document.querySelector('#' + key + ' button');\n",
              "      quickchartButtonEl.disabled = true;  // To prevent multiple clicks.\n",
              "      quickchartButtonEl.classList.add('colab-df-spinner');\n",
              "      try {\n",
              "        const charts = await google.colab.kernel.invokeFunction(\n",
              "            'suggestCharts', [key], {});\n",
              "      } catch (error) {\n",
              "        console.error('Error during call to suggestCharts:', error);\n",
              "      }\n",
              "      quickchartButtonEl.classList.remove('colab-df-spinner');\n",
              "      quickchartButtonEl.classList.add('colab-df-quickchart-complete');\n",
              "    }\n",
              "    (() => {\n",
              "      let quickchartButtonEl =\n",
              "        document.querySelector('#df-aa1e0a9d-1912-4367-83ba-af5ab096cc57 button');\n",
              "      quickchartButtonEl.style.display =\n",
              "        google.colab.kernel.accessAllowed ? 'block' : 'none';\n",
              "    })();\n",
              "  </script>\n",
              "</div>\n",
              "\n",
              "  <div id=\"id_b33653b6-c7f3-4609-ae1e-3f9bcf3512bb\">\n",
              "    <style>\n",
              "      .colab-df-generate {\n",
              "        background-color: #E8F0FE;\n",
              "        border: none;\n",
              "        border-radius: 50%;\n",
              "        cursor: pointer;\n",
              "        display: none;\n",
              "        fill: #1967D2;\n",
              "        height: 32px;\n",
              "        padding: 0 0 0 0;\n",
              "        width: 32px;\n",
              "      }\n",
              "\n",
              "      .colab-df-generate:hover {\n",
              "        background-color: #E2EBFA;\n",
              "        box-shadow: 0px 1px 2px rgba(60, 64, 67, 0.3), 0px 1px 3px 1px rgba(60, 64, 67, 0.15);\n",
              "        fill: #174EA6;\n",
              "      }\n",
              "\n",
              "      [theme=dark] .colab-df-generate {\n",
              "        background-color: #3B4455;\n",
              "        fill: #D2E3FC;\n",
              "      }\n",
              "\n",
              "      [theme=dark] .colab-df-generate:hover {\n",
              "        background-color: #434B5C;\n",
              "        box-shadow: 0px 1px 3px 1px rgba(0, 0, 0, 0.15);\n",
              "        filter: drop-shadow(0px 1px 2px rgba(0, 0, 0, 0.3));\n",
              "        fill: #FFFFFF;\n",
              "      }\n",
              "    </style>\n",
              "    <button class=\"colab-df-generate\" onclick=\"generateWithVariable('inter_df')\"\n",
              "            title=\"Generate code using this dataframe.\"\n",
              "            style=\"display:none;\">\n",
              "\n",
              "  <svg xmlns=\"http://www.w3.org/2000/svg\" height=\"24px\"viewBox=\"0 0 24 24\"\n",
              "       width=\"24px\">\n",
              "    <path d=\"M7,19H8.4L18.45,9,17,7.55,7,17.6ZM5,21V16.75L18.45,3.32a2,2,0,0,1,2.83,0l1.4,1.43a1.91,1.91,0,0,1,.58,1.4,1.91,1.91,0,0,1-.58,1.4L9.25,21ZM18.45,9,17,7.55Zm-12,3A5.31,5.31,0,0,0,4.9,8.1,5.31,5.31,0,0,0,1,6.5,5.31,5.31,0,0,0,4.9,4.9,5.31,5.31,0,0,0,6.5,1,5.31,5.31,0,0,0,8.1,4.9,5.31,5.31,0,0,0,12,6.5,5.46,5.46,0,0,0,6.5,12Z\"/>\n",
              "  </svg>\n",
              "    </button>\n",
              "    <script>\n",
              "      (() => {\n",
              "      const buttonEl =\n",
              "        document.querySelector('#id_b33653b6-c7f3-4609-ae1e-3f9bcf3512bb button.colab-df-generate');\n",
              "      buttonEl.style.display =\n",
              "        google.colab.kernel.accessAllowed ? 'block' : 'none';\n",
              "\n",
              "      buttonEl.onclick = () => {\n",
              "        google.colab.notebook.generateWithVariable('inter_df');\n",
              "      }\n",
              "      })();\n",
              "    </script>\n",
              "  </div>\n",
              "\n",
              "    </div>\n",
              "  </div>\n"
            ],
            "application/vnd.google.colaboratory.intrinsic+json": {
              "type": "dataframe",
              "variable_name": "inter_df"
            }
          },
          "metadata": {},
          "execution_count": 56
        }
      ]
    },
    {
      "cell_type": "code",
      "source": [
        "#inter_df=inter_df[:100000]"
      ],
      "metadata": {
        "id": "3SEhQc8bLfwe"
      },
      "execution_count": null,
      "outputs": []
    },
    {
      "cell_type": "code",
      "source": [
        "def df_to_map_dataset(dataframe, batch_size=1):\n",
        "  \"\"\"\n",
        "  Converts a Pandas DataFrame to a MapDataset in TensorFlow.\n",
        "\n",
        "  Args:\n",
        "    dataframe: A Pandas DataFrame.\n",
        "    batch_size: The batch size for the MapDataset.\n",
        "\n",
        "  Returns:\n",
        "    A MapDataset containing the data from the DataFrame.\n",
        "  \"\"\"\n",
        "\n",
        "  # Create a dictionary of column names and values.\n",
        "  #data = {name: values for name, values in dataframe.items()}\n",
        "\n",
        "  # Create a MapDataset from the dictionary.\n",
        "  #dataset = tf.data.Dataset.from_tensor_slices(data)\n",
        "  dataset = tf.data.Dataset.from_tensor_slices(dict(dataframe))\n",
        "\n",
        "  # Batch the dataset.\n",
        "  #dataset = dataset.batch(batch_size)\n",
        "\n",
        "  return dataset"
      ],
      "metadata": {
        "id": "v-Jf40kyca25"
      },
      "execution_count": null,
      "outputs": []
    },
    {
      "cell_type": "code",
      "source": [
        "inter_map=df_to_map_dataset(inter_df, batch_size=1)\n",
        "items_map=df_to_map_dataset(items_df, batch_size=1)"
      ],
      "metadata": {
        "id": "iBb_QgiAdEhD"
      },
      "execution_count": null,
      "outputs": []
    },
    {
      "cell_type": "code",
      "source": [
        "#for x in inter_map.take(1).as_numpy_iterator():\n",
        "#  pprint.pprint(x)"
      ],
      "metadata": {
        "id": "1McaMUtnwWvx"
      },
      "execution_count": null,
      "outputs": []
    },
    {
      "cell_type": "code",
      "source": [
        "inters = inter_map.map(lambda x: {\n",
        "    \"title_orig\": x[\"title_orig\"],\n",
        "    \"user_id\": x[\"user_id\"],\n",
        "    'actors_translated': x['actors_translated'],\n",
        "    'age_rating': x['age_rating'],\n",
        "    'description': x['description']\n",
        "})\n",
        "items = items_map.map(lambda x: x[\"title_orig\"])"
      ],
      "metadata": {
        "id": "qLw7w827dQur"
      },
      "execution_count": null,
      "outputs": []
    },
    {
      "cell_type": "code",
      "source": [
        "for x in inters.take(1).as_numpy_iterator():\n",
        "  pprint.pprint(x)"
      ],
      "metadata": {
        "id": "axd9I6OEvZ8g",
        "colab": {
          "base_uri": "https://localhost:8080/"
        },
        "outputId": "d4a87364-1ecc-490a-8006-460934847ea0"
      },
      "execution_count": null,
      "outputs": [
        {
          "output_type": "stream",
          "name": "stdout",
          "text": [
            "{'actors_translated': b'Kristen Bell, Idina Menzel, Jonathan Groff, Josh Gad'\n",
            "                      b', Santino Fontana, Alan Tewdik, Kieran Hinds, Chris '\n",
            "                      b'Williams, Stephen J. Anderson, Maya Wilson, Ciaran H'\n",
            "                      b'inds, Maurice LaMarsh, Jennifer Lee, Dara McGarry, F'\n",
            "                      b'red Tatasquior',\n",
            " 'age_rating': b'0.0',\n",
            " 'description': b'When an ancient prophecy comes true and the kingdom is plung'\n",
            "                b'ed into the embrace of eternal winter, three fearless heroes'\n",
            "                b' - Princess Anne, the brave Kristoff, and his faithful reind'\n",
            "                b\"eer Sven - set out to find Anna's sister, Elsa, who can lift\"\n",
            "                b\" the country's icy spell. Along the way, they will face a ho\"\n",
            "                b'st of fascinating surprises and exciting adventures: meeting'\n",
            "                b' mystical trolls, meeting a charming snowman named Olaf, cli'\n",
            "                b'mbing mountains steeper than Mount Everest, and magic in eve'\n",
            "                b'ry snowflake. Anna and Kristoff will come together and confr'\n",
            "                b'ont the mighty elements to save the kingdom and those they l'\n",
            "                b'ove.',\n",
            " 'title_orig': b'Frozen',\n",
            " 'user_id': b'176549'}\n"
          ]
        }
      ]
    },
    {
      "cell_type": "code",
      "source": [
        "for x in items.take(2).as_numpy_iterator():\n",
        "  pprint.pprint(x)"
      ],
      "metadata": {
        "colab": {
          "base_uri": "https://localhost:8080/"
        },
        "id": "XRgNIPGlvd6Q",
        "outputId": "71cc546a-be40-4a65-9b66-77a114855ee1"
      },
      "execution_count": null,
      "outputs": [
        {
          "output_type": "stream",
          "name": "stdout",
          "text": [
            "b'Hable con ella'\n",
            "b'Search Party'\n"
          ]
        }
      ]
    },
    {
      "cell_type": "code",
      "source": [
        "user_ids_vocabulary = tf.keras.layers.StringLookup(mask_token=None)\n",
        "user_ids_vocabulary.adapt(inters.map(lambda x: x[\"user_id\"]))\n",
        "\n",
        "items_vocabulary = tf.keras.layers.StringLookup(mask_token=None)\n",
        "items_vocabulary.adapt(items)"
      ],
      "metadata": {
        "id": "1IGu5lrAiyzS"
      },
      "execution_count": null,
      "outputs": []
    },
    {
      "cell_type": "code",
      "source": [
        "class MovieLensModel(tfrs.Model):\n",
        "  # We derive from a custom base class to help reduce boilerplate. Under the hood,\n",
        "  # these are still plain Keras Models.\n",
        "\n",
        "  def __init__(\n",
        "      self,\n",
        "      user_model: tf.keras.Model,\n",
        "      movie_model: tf.keras.Model,\n",
        "      task: tfrs.tasks.Retrieval):\n",
        "    super().__init__()\n",
        "\n",
        "    # Set up user and movie representations.\n",
        "    self.user_model = user_model\n",
        "    self.movie_model = movie_model\n",
        "\n",
        "    # Set up a retrieval task.\n",
        "    self.task = task\n",
        "\n",
        "  def compute_loss(self, features: Dict[Text, tf.Tensor], training=False) -> tf.Tensor:\n",
        "    # Define how the loss is computed.\n",
        "\n",
        "    user_embeddings = self.user_model(features[\"user_id\"])\n",
        "    movie_embeddings = self.movie_model(features[\"title_orig\"])\n",
        "\n",
        "    return self.task(user_embeddings, movie_embeddings)"
      ],
      "metadata": {
        "id": "pqzP0iXziiS9"
      },
      "execution_count": null,
      "outputs": []
    },
    {
      "cell_type": "code",
      "source": [
        "# Define user and movie models.\n",
        "user_model = tf.keras.Sequential([user_ids_vocabulary, tf.keras.layers.Embedding(user_ids_vocabulary.vocabulary_size(), 64)])\n",
        "movie_model = tf.keras.Sequential([items_vocabulary, tf.keras.layers.Embedding(items_vocabulary.vocabulary_size(), 64)])\n",
        "\n",
        "# Define your objectives.\n",
        "task = tfrs.tasks.Retrieval(metrics=tfrs.metrics.FactorizedTopK(items.batch(128).map(movie_model)))"
      ],
      "metadata": {
        "id": "gN2BMEgcilpU"
      },
      "execution_count": null,
      "outputs": []
    },
    {
      "cell_type": "code",
      "source": [
        "user_model.save(r\"/content/drive/My Drive/DDH_2024/1_Task/models/user_model_3_exp.keras\")\n",
        "movie_model.save(r\"/content/drive/My Drive/DDH_2024/1_Task/models/movie_model_3_exp.keras\")"
      ],
      "metadata": {
        "id": "VubWD1i7Q8qO",
        "colab": {
          "base_uri": "https://localhost:8080/"
        },
        "outputId": "c796c621-030a-4ace-8a7b-961493ffe645"
      },
      "execution_count": null,
      "outputs": [
        {
          "output_type": "stream",
          "name": "stderr",
          "text": [
            "/usr/local/lib/python3.10/dist-packages/keras/src/saving/saving_api.py:164: UserWarning: You are saving a model that has not yet been built. It might not contain any weights yet. Consider building the model first by calling it on some data.\n",
            "  saving_lib.save_model(model, filepath)\n"
          ]
        }
      ]
    },
    {
      "cell_type": "code",
      "source": [
        "user_model_loaded = tf.keras.models.load_model(r\"/content/drive/My Drive/DDH_2024/1_Task/models/user_model_1_exp.keras\")\n",
        "movie_model_loaded = tf.keras.models.load_model(r\"/content/drive/My Drive/DDH_2024/1_Task/models/movie_model_1_exp.keras\")"
      ],
      "metadata": {
        "id": "i2MRnj92RYN2"
      },
      "execution_count": null,
      "outputs": []
    },
    {
      "cell_type": "code",
      "source": [
        "# Create a retrieval model.\n",
        "model = MovieLensModel(user_model, movie_model, task)\n",
        "model.compile(optimizer=tf.keras.optimizers.Adagrad(0.5))\n",
        "\n",
        "# Train for 3 epochs.\n",
        "model.fit(inters.batch(4096), epochs=1)\n",
        "\n",
        "# Use brute-force search to set up retrieval using the trained representations.\n",
        "index = tfrs.layers.factorized_top_k.BruteForce(model.user_model)\n",
        "index.index_from_dataset(items.batch(100).map(lambda title: (title, model.movie_model(title))))"
      ],
      "metadata": {
        "colab": {
          "base_uri": "https://localhost:8080/"
        },
        "id": "47nuw93Iiqq-",
        "outputId": "6b252fe6-d06d-4582-f09d-e892239390a1"
      },
      "execution_count": null,
      "outputs": [
        {
          "output_type": "stream",
          "name": "stdout",
          "text": [
            "972/972 [==============================] - 292s 299ms/step - factorized_top_k/top_1_categorical_accuracy: 2.5386e-05 - factorized_top_k/top_5_categorical_accuracy: 0.0011 - factorized_top_k/top_10_categorical_accuracy: 0.0023 - factorized_top_k/top_50_categorical_accuracy: 0.0117 - factorized_top_k/top_100_categorical_accuracy: 0.0229 - loss: 34052.5367 - regularization_loss: 0.0000e+00 - total_loss: 34052.5367\n"
          ]
        },
        {
          "output_type": "execute_result",
          "data": {
            "text/plain": [
              "<tensorflow_recommenders.layers.factorized_top_k.BruteForce at 0x7f9cdb0cf430>"
            ]
          },
          "metadata": {},
          "execution_count": 159
        }
      ]
    },
    {
      "cell_type": "code",
      "source": [
        "model.save_weights(r\"/content/drive/My Drive/DDH_2024/1_Task/models/weights/MLM_1_exp\", save_format='tf')"
      ],
      "metadata": {
        "id": "nIRDBkT5TGQN"
      },
      "execution_count": null,
      "outputs": []
    },
    {
      "cell_type": "code",
      "source": [
        "task = tfrs.tasks.Retrieval(metrics=tfrs.metrics.FactorizedTopK(items.batch(128).map(movie_model_loaded)))\n",
        "loaded_model = MovieLensModel(user_model_loaded, movie_model_loaded, task)\n",
        "loaded_model.load_weights(r\"/content/drive/My Drive/DDH_2024/1_Task/models/weights/MLM_1_exp\")\n",
        "\n",
        "# Use brute-force search to set up retrieval using the trained representations.\n",
        "index = tfrs.layers.factorized_top_k.BruteForce(loaded_model.user_model)\n",
        "index.index_from_dataset(items.batch(100).map(lambda title: (title, loaded_model.movie_model(title))))"
      ],
      "metadata": {
        "colab": {
          "base_uri": "https://localhost:8080/"
        },
        "id": "yoS5YPMeTg0k",
        "outputId": "f230b2d4-dd7b-4394-e796-7a94b0d266a0"
      },
      "execution_count": null,
      "outputs": [
        {
          "output_type": "execute_result",
          "data": {
            "text/plain": [
              "<tensorflow_recommenders.layers.factorized_top_k.BruteForce at 0x7b29216db8b0>"
            ]
          },
          "metadata": {},
          "execution_count": 13
        }
      ]
    },
    {
      "cell_type": "code",
      "source": [
        "\n",
        "# Get some recommendations.\n",
        "_, titles = index(np.array([\"10\"]))\n",
        "print(f\"Top 10 recommendations for user 1097558: {titles[0, :11]}\")"
      ],
      "metadata": {
        "colab": {
          "base_uri": "https://localhost:8080/"
        },
        "id": "UDCQFyRdkjWC",
        "outputId": "6ac497bd-bb9d-4d15-d3fc-c37a0de38a6f"
      },
      "execution_count": null,
      "outputs": [
        {
          "output_type": "stream",
          "name": "stdout",
          "text": [
            "Top 10 recommendations for user 1097558: [b'Declared Dead' b'A Dark, Dark Man' b'\\xc3\\x89pid\\xc3\\xa9mie'\n",
            " b'Awareness' b'Sacrifice' b'Farewell' b'Occupation' b'Lapsi' b'The Plant'\n",
            " b'Anatomy of a Murder']\n"
          ]
        }
      ]
    },
    {
      "cell_type": "markdown",
      "source": [
        "# Load test data\n",
        "\n"
      ],
      "metadata": {
        "id": "m7pbALNZZ7u0"
      }
    },
    {
      "cell_type": "code",
      "source": [
        "sample_submission = pd.read_csv(r\"/content/drive/My Drive/DDH_2024/1_Task/data/raw/sample_submission.csv\")"
      ],
      "metadata": {
        "id": "UIC-WjjxZ2Ur"
      },
      "execution_count": null,
      "outputs": []
    },
    {
      "cell_type": "code",
      "source": [
        "predicted_movies=dict()\n",
        "for user_id in sample_submission.user_id.values:\n",
        "  _, predicted_movies[user_id] = index(np.array([str(user_id)]))"
      ],
      "metadata": {
        "id": "LVJ7sqqhr027"
      },
      "execution_count": null,
      "outputs": []
    },
    {
      "cell_type": "code",
      "source": [
        "predicted_ids=list()\n",
        "predicted_dict=dict()\n",
        "for user_id in predicted_movies.keys():\n",
        "  for movie in predicted_movies[user_id].numpy()[0]:\n",
        "    predicted_ids.append(items_df[items_df['title_orig']==movie.decode(\"utf-8\")]['item_id'].values[0])\n",
        "  predicted_dict[user_id]=predicted_ids\n",
        "  predicted_ids=list()"
      ],
      "metadata": {
        "id": "erreAFYZuLCK"
      },
      "execution_count": null,
      "outputs": []
    },
    {
      "cell_type": "code",
      "source": [
        "predicted_dict_fordf=dict()\n",
        "for key in predicted_dict.keys():\n",
        "  predicted_dict_fordf['user_id']=key\n",
        "  predicted_dict_fordf['item_id']=predicted_dict[key]"
      ],
      "metadata": {
        "id": "aH-HlvW9hXEt"
      },
      "execution_count": null,
      "outputs": []
    },
    {
      "cell_type": "code",
      "source": [
        "predicted_df=pd.DataFrame(predicted_dict)"
      ],
      "metadata": {
        "id": "xab8aVe04t_Y"
      },
      "execution_count": null,
      "outputs": []
    },
    {
      "cell_type": "code",
      "source": [
        "df_melted = predicted_df.melt(var_name='user_id', value_name='item_id')"
      ],
      "metadata": {
        "id": "4L8AQnyw44B3"
      },
      "execution_count": null,
      "outputs": []
    },
    {
      "cell_type": "code",
      "source": [
        "df_grouped = df_melted.groupby('user_id')['item_id'].apply(list).reset_index()"
      ],
      "metadata": {
        "id": "tZ0K0M4y9SKi"
      },
      "execution_count": null,
      "outputs": []
    },
    {
      "cell_type": "markdown",
      "source": [
        "# Метрики"
      ],
      "metadata": {
        "id": "5w10DZ84Oa1c"
      }
    },
    {
      "cell_type": "code",
      "source": [
        "def calculate_novelty(train_interactions, recommendations, top_n):\n",
        "    users = recommendations['user_id'].unique()\n",
        "    n_users = train_interactions['user_id'].nunique()\n",
        "    n_users_per_item = train_interactions.groupby('item_id')['user_id'].nunique()\n",
        "\n",
        "    recommendations = recommendations.loc[recommendations['rank'] <= top_n].copy()\n",
        "    recommendations['n_users_per_item'] = recommendations['item_id'].map(n_users_per_item)\n",
        "    recommendations['n_users_per_item'] = recommendations['n_users_per_item'].fillna(1)\n",
        "    recommendations['item_novelty'] = -np.log2(recommendations['n_users_per_item'] / n_users)\n",
        "\n",
        "    item_novelties = recommendations[['user_id', 'rank', 'item_novelty']]\n",
        "\n",
        "    miuf_at_k = item_novelties.loc[item_novelties['rank'] <= top_n, ['user_id', 'item_novelty']]\n",
        "    miuf_at_k = miuf_at_k.groupby('user_id').agg('mean').squeeze()\n",
        "\n",
        "    return miuf_at_k.reindex(users).mean()"
      ],
      "metadata": {
        "id": "NP0XxhmwDeMg"
      },
      "execution_count": null,
      "outputs": []
    },
    {
      "cell_type": "code",
      "source": [
        "def compute_metrics(train, test, recs, top_N):\n",
        "    result = {}\n",
        "    test_recs = test.set_index(['user_id', 'item_id']).join(recs.set_index(['user_id', 'item_id']))\n",
        "    test_recs = test_recs.sort_values(by=['user_id', 'rank'])\n",
        "\n",
        "    test_recs['users_item_count'] = test_recs.groupby(level='user_id')['rank'].transform(np.size)\n",
        "    test_recs['reciprocal_rank'] = (1 / test_recs['rank']).fillna(0)\n",
        "    test_recs['cumulative_rank'] = test_recs.groupby(level='user_id').cumcount() + 1\n",
        "    test_recs['cumulative_rank'] = test_recs['cumulative_rank'] / test_recs['rank']\n",
        "\n",
        "    users_count = test_recs.index.get_level_values('user_id').nunique()\n",
        "\n",
        "    # Uncomment for Precision/Recall at k results\n",
        "\n",
        "#    for k in range(1, top_N + 1):\n",
        "#         hit_k = f'hit@{k}'\n",
        "#         test_recs[hit_k] = test_recs['rank'] <= k\n",
        "#         result[f'Precision@{k}'] = (test_recs[hit_k] / k).sum() / users_count\n",
        "#         result[f'Recall@{k}'] = (test_recs[hit_k] / test_recs['users_item_count']).sum() / users_count\n",
        "\n",
        "    result[f'MAP@{top_N}'] = (test_recs['cumulative_rank'] / test_recs['users_item_count']).sum() / users_count\n",
        "    result[f'Novelty@{top_N}'] = calculate_novelty(train, recs, top_N)\n",
        "\n",
        "    return pd.Series(result)"
      ],
      "metadata": {
        "id": "ee0giYPQOcud"
      },
      "execution_count": null,
      "outputs": []
    },
    {
      "cell_type": "code",
      "source": [
        "class TimeRangeSplit():\n",
        "    \"\"\"\n",
        "        https://pandas.pydata.org/pandas-docs/stable/reference/api/pandas.date_range.html\n",
        "    \"\"\"\n",
        "    def __init__(self,\n",
        "                 start_date,\n",
        "                 end_date=None,\n",
        "                 freq='D',\n",
        "                 periods=None,\n",
        "                 tz=None,\n",
        "                 normalize=False,\n",
        "                 closed=None,\n",
        "                 train_min_date=None,\n",
        "                 filter_cold_users=True,\n",
        "                 filter_cold_items=True,\n",
        "                 filter_already_seen=True):\n",
        "\n",
        "        self.start_date = start_date\n",
        "        if end_date is None and periods is None:\n",
        "            raise ValueError('Either \"end_date\" or \"periods\" must be non-zero, not both at the same time.')\n",
        "\n",
        "        self.end_date = end_date\n",
        "        self.freq = freq\n",
        "        self.periods = periods\n",
        "        self.tz = tz\n",
        "        self.normalize = normalize\n",
        "        self.closed = closed\n",
        "        self.train_min_date = pd.to_datetime(train_min_date, errors='raise')\n",
        "        self.filter_cold_users = filter_cold_users\n",
        "        self.filter_cold_items = filter_cold_items\n",
        "        self.filter_already_seen = filter_already_seen\n",
        "\n",
        "        self.date_range = pd.date_range(\n",
        "            start=start_date,\n",
        "            end=end_date,\n",
        "            freq=freq,\n",
        "            periods=periods,\n",
        "            tz=tz,\n",
        "            normalize=normalize,\n",
        "            closed=closed)\n",
        "\n",
        "        self.max_n_splits = max(0, len(self.date_range) - 1)\n",
        "        if self.max_n_splits == 0:\n",
        "            raise ValueError('Provided parametrs set an empty date range.')\n",
        "\n",
        "    def split(self,\n",
        "              df,\n",
        "              user_column='user_id',\n",
        "              item_column='item_id',\n",
        "              datetime_column='date',\n",
        "              fold_stats=False):\n",
        "        df_datetime = df[datetime_column]\n",
        "        if self.train_min_date is not None:\n",
        "            train_min_mask = df_datetime >= self.train_min_date\n",
        "        else:\n",
        "            train_min_mask = df_datetime.notnull()\n",
        "\n",
        "        date_range = self.date_range[(self.date_range >= df_datetime.min()) &\n",
        "                                     (self.date_range <= df_datetime.max())]\n",
        "\n",
        "        for start, end in pairwise(date_range):\n",
        "            fold_info = {\n",
        "                'Start date': start,\n",
        "                'End date': end\n",
        "            }\n",
        "            train_mask = train_min_mask & (df_datetime < start)\n",
        "            train_idx = df.index[train_mask]\n",
        "            if fold_stats:\n",
        "                fold_info['Train'] = len(train_idx)\n",
        "\n",
        "            test_mask = (df_datetime >= start) & (df_datetime < end)\n",
        "            test_idx = df.index[test_mask]\n",
        "\n",
        "            if self.filter_cold_users:\n",
        "                new = np.setdiff1d(\n",
        "                    df.loc[test_idx, user_column].unique(),\n",
        "                    df.loc[train_idx, user_column].unique())\n",
        "                new_idx = df.index[test_mask & df[user_column].isin(new)]\n",
        "                test_idx = np.setdiff1d(test_idx, new_idx)\n",
        "                test_mask = df.index.isin(test_idx)\n",
        "                if fold_stats:\n",
        "                    fold_info['New users'] = len(new)\n",
        "                    fold_info['New users interactions'] = len(new_idx)\n",
        "\n",
        "            if self.filter_cold_items:\n",
        "                new = np.setdiff1d(\n",
        "                    df.loc[test_idx, item_column].unique(),\n",
        "                    df.loc[train_idx, item_column].unique())\n",
        "                new_idx = df.index[test_mask & df[item_column].isin(new)]\n",
        "                test_idx = np.setdiff1d(test_idx, new_idx)\n",
        "                test_mask = df.index.isin(test_idx)\n",
        "                if fold_stats:\n",
        "                    fold_info['New items'] = len(new)\n",
        "                    fold_info['New items interactions'] = len(new_idx)\n",
        "\n",
        "            if self.filter_already_seen:\n",
        "                user_item = [user_column, item_column]\n",
        "                train_pairs = df.loc[train_idx, user_item].set_index(user_item).index\n",
        "                test_pairs = df.loc[test_idx, user_item].set_index(user_item).index\n",
        "                intersection = train_pairs.intersection(test_pairs)\n",
        "                print(f'Already seen number: {len(intersection)}')\n",
        "                test_idx = test_idx[~test_pairs.isin(intersection)]\n",
        "                # test_mask = rd.df.index.isin(test_idx)\n",
        "                if fold_stats:\n",
        "                    fold_info['Known interactions'] = len(intersection)\n",
        "\n",
        "            if fold_stats:\n",
        "                fold_info['Test'] = len(test_idx)\n",
        "\n",
        "            yield (train_idx, test_idx, fold_info)\n",
        "\n",
        "    def get_n_splits(self, df, datetime_column='date'):\n",
        "        df_datetime = df[datetime_column]\n",
        "        if self.train_min_date is not None:\n",
        "            df_datetime = df_datetime[df_datetime >= self.train_min_date]\n",
        "\n",
        "        date_range = self.date_range[(self.date_range >= df_datetime.min()) &\n",
        "                                     (self.date_range <= df_datetime.max())]\n",
        "\n",
        "        return max(0, len(date_range) - 1)"
      ],
      "metadata": {
        "id": "OMhNft3BOjWx"
      },
      "execution_count": null,
      "outputs": []
    },
    {
      "cell_type": "code",
      "source": [
        "def get_coo_matrix(df,\n",
        "                   user_col='user_id',\n",
        "                   item_col='item_id',\n",
        "                   weight_col=None,\n",
        "                   users_mapping={},\n",
        "                   items_mapping={}):\n",
        "\n",
        "    if weight_col is None:\n",
        "        weights = np.ones(len(df), dtype=np.float32)\n",
        "    else:\n",
        "        weights = df[weight_col].astype(np.float32)\n",
        "\n",
        "    interaction_matrix = sp.coo_matrix((\n",
        "        weights,\n",
        "        (\n",
        "            df[user_col].map(users_mapping.get),\n",
        "            df[item_col].map(items_mapping.get)\n",
        "        )\n",
        "    ))\n",
        "    return interaction_matrix"
      ],
      "metadata": {
        "id": "YhPH-cc2OmvY"
      },
      "execution_count": null,
      "outputs": []
    },
    {
      "cell_type": "code",
      "source": [
        "def generate_implicit_recs_mapper(\n",
        "    model,\n",
        "    train_matrix,\n",
        "    top_N,\n",
        "    user_mapping,\n",
        "    item_inv_mapping,\n",
        "    filter_already_liked_items\n",
        "):\n",
        "    def _recs_mapper(user):\n",
        "        user_id = user_mapping[user]\n",
        "        recs = model.recommend(user_id,\n",
        "                               train_matrix,\n",
        "                               N=top_N,\n",
        "                               filter_already_liked_items=filter_already_liked_items)\n",
        "        return [item_inv_mapping[item] for item, _ in recs]\n",
        "    return _recs_mapper"
      ],
      "metadata": {
        "id": "5BoIG_ByOor2"
      },
      "execution_count": null,
      "outputs": []
    },
    {
      "cell_type": "code",
      "source": [
        "class PopularRecommender():\n",
        "    def __init__(self, max_K=10, days=30, item_column='item_id', dt_column='date'):\n",
        "        self.max_K = max_K\n",
        "        self.days = days\n",
        "        self.item_column = item_column\n",
        "        self.dt_column = dt_column\n",
        "        self.recommendations = []\n",
        "\n",
        "    def fit(self, df, ):\n",
        "        min_date = df[self.dt_column].max().normalize() - pd.DateOffset(days=self.days)\n",
        "        self.recommendations = df.loc[df[self.dt_column] > min_date, self.item_column].value_counts().head(self.max_K).index.values\n",
        "\n",
        "    def recommend(self, users=None, N=10):\n",
        "        recs = self.recommendations[:N]\n",
        "        if users is None:\n",
        "            return recs\n",
        "        else:\n",
        "            return list(islice(cycle([recs]), len(users)))"
      ],
      "metadata": {
        "id": "fKs8sbMdO-EK"
      },
      "execution_count": null,
      "outputs": []
    },
    {
      "cell_type": "code",
      "source": [
        "interactions_df = pd.read_csv(r\"/content/drive/My Drive/DDH_2024/1_Task/data/preprocessed/interactions.csv\", parse_dates=['last_watch_dt'])"
      ],
      "metadata": {
        "id": "IwUo7bn-OzIp"
      },
      "execution_count": null,
      "outputs": []
    },
    {
      "cell_type": "code",
      "source": [
        "test = interactions_df[interactions_df['last_watch_dt'] == interactions_df['last_watch_dt'].max()]\n",
        "train = interactions_df[interactions_df['last_watch_dt'] < interactions_df['last_watch_dt'].max()]"
      ],
      "metadata": {
        "id": "sN_a7YzvOspS"
      },
      "execution_count": null,
      "outputs": []
    },
    {
      "cell_type": "code",
      "source": [
        "pop_model = PopularRecommender(days=7, dt_column='last_watch_dt')\n",
        "pop_model.fit(train)"
      ],
      "metadata": {
        "id": "OuUClLnDOxOI"
      },
      "execution_count": null,
      "outputs": []
    },
    {
      "cell_type": "code",
      "source": [
        "recs = pd.DataFrame({'user_id': test['user_id'].unique()})\n",
        "top_N = 10\n",
        "recs['item_id'] = pop_model.recommend(recs['user_id'], N=top_N)\n",
        "recs.head()"
      ],
      "metadata": {
        "id": "vvD_2vndPEaP"
      },
      "execution_count": null,
      "outputs": []
    },
    {
      "cell_type": "code",
      "source": [
        "recs.shape, test.shape"
      ],
      "metadata": {
        "colab": {
          "base_uri": "https://localhost:8080/"
        },
        "id": "uapRe0LWjLgm",
        "outputId": "b80c4fd9-50b2-4669-e17e-24d7ea1ce289"
      },
      "execution_count": null,
      "outputs": [
        {
          "output_type": "execute_result",
          "data": {
            "text/plain": [
              "((32352, 2), (53956, 5))"
            ]
          },
          "metadata": {},
          "execution_count": 204
        }
      ]
    },
    {
      "cell_type": "code",
      "source": [],
      "metadata": {
        "id": "0wdxzHy1jInZ"
      },
      "execution_count": null,
      "outputs": []
    },
    {
      "cell_type": "code",
      "source": [
        "def convert_to_int(lst):\n",
        "    return [int(x) for x in lst]\n",
        "\n",
        "# Преобразование всех элементов в столбце 'item_id' из строк в числа\n",
        "df_grouped['item_id'] = df_grouped['item_id'].apply(convert_to_int)"
      ],
      "metadata": {
        "id": "NZuk1hBuYiv7"
      },
      "execution_count": null,
      "outputs": []
    },
    {
      "cell_type": "code",
      "source": [
        "recs_df = df_grouped[df_grouped['user_id'].isin(recs['user_id'])]"
      ],
      "metadata": {
        "id": "NQr6oe8kYkxb"
      },
      "execution_count": null,
      "outputs": []
    },
    {
      "cell_type": "code",
      "source": [
        "recs_df.shape"
      ],
      "metadata": {
        "colab": {
          "base_uri": "https://localhost:8080/"
        },
        "id": "nq3w75OyYunD",
        "outputId": "ea049024-a7f7-4e81-e4a8-f85c97b22934"
      },
      "execution_count": null,
      "outputs": [
        {
          "output_type": "execute_result",
          "data": {
            "text/plain": [
              "(18489, 2)"
            ]
          },
          "metadata": {},
          "execution_count": 177
        }
      ]
    },
    {
      "cell_type": "code",
      "source": [
        "recs.shape"
      ],
      "metadata": {
        "colab": {
          "base_uri": "https://localhost:8080/"
        },
        "id": "ISvztQ3yWtxL",
        "outputId": "5375d64b-7312-4e54-8911-136b01bb8dbc"
      },
      "execution_count": null,
      "outputs": [
        {
          "output_type": "execute_result",
          "data": {
            "text/plain": [
              "(32352, 2)"
            ]
          },
          "metadata": {},
          "execution_count": 165
        }
      ]
    },
    {
      "cell_type": "code",
      "source": [
        "recs.user_id[0]"
      ],
      "metadata": {
        "colab": {
          "base_uri": "https://localhost:8080/"
        },
        "id": "UoVjC9hxRaR0",
        "outputId": "615283f5-61b3-4eca-b6c1-d510e6b96c3e"
      },
      "execution_count": null,
      "outputs": [
        {
          "output_type": "execute_result",
          "data": {
            "text/plain": [
              "626036"
            ]
          },
          "metadata": {},
          "execution_count": 111
        }
      ]
    },
    {
      "cell_type": "code",
      "source": [
        "recs.item_id[0]"
      ],
      "metadata": {
        "colab": {
          "base_uri": "https://localhost:8080/"
        },
        "id": "fsQGXHyyRfmj",
        "outputId": "b6882a30-9495-4c6f-f0a3-4d308832992d"
      },
      "execution_count": null,
      "outputs": [
        {
          "output_type": "execute_result",
          "data": {
            "text/plain": [
              "array([ 9728, 15297, 10440, 14488, 13865, 12192, 12360,   512,   341,\n",
              "        3734])"
            ]
          },
          "metadata": {},
          "execution_count": 112
        }
      ]
    },
    {
      "cell_type": "code",
      "source": [
        "recs = df_grouped.explode('item_id')"
      ],
      "metadata": {
        "id": "pJZiZDUXPWFC"
      },
      "execution_count": null,
      "outputs": []
    },
    {
      "cell_type": "code",
      "source": [
        "recs['rank'] = recs.groupby('user_id').cumcount() + 1\n",
        "recs.head(top_N + 2)"
      ],
      "metadata": {
        "colab": {
          "base_uri": "https://localhost:8080/",
          "height": 426
        },
        "id": "aYRXMNdJQtZu",
        "outputId": "4c6839f7-0966-437e-cb8e-57217597f51e"
      },
      "execution_count": null,
      "outputs": [
        {
          "output_type": "execute_result",
          "data": {
            "text/plain": [
              "   user_id item_id  rank\n",
              "0        3   10289     1\n",
              "0        3   15592     2\n",
              "0        3    2410     3\n",
              "0        3     284     4\n",
              "0        3     164     5\n",
              "0        3    5990     6\n",
              "0        3    9947     7\n",
              "0        3   14109     8\n",
              "0        3    8162     9\n",
              "0        3    7185    10\n",
              "1       11   13562     1\n",
              "1       11    1182     2"
            ],
            "text/html": [
              "\n",
              "  <div id=\"df-e84e3583-e161-438f-a119-0f430b24b596\" class=\"colab-df-container\">\n",
              "    <div>\n",
              "<style scoped>\n",
              "    .dataframe tbody tr th:only-of-type {\n",
              "        vertical-align: middle;\n",
              "    }\n",
              "\n",
              "    .dataframe tbody tr th {\n",
              "        vertical-align: top;\n",
              "    }\n",
              "\n",
              "    .dataframe thead th {\n",
              "        text-align: right;\n",
              "    }\n",
              "</style>\n",
              "<table border=\"1\" class=\"dataframe\">\n",
              "  <thead>\n",
              "    <tr style=\"text-align: right;\">\n",
              "      <th></th>\n",
              "      <th>user_id</th>\n",
              "      <th>item_id</th>\n",
              "      <th>rank</th>\n",
              "    </tr>\n",
              "  </thead>\n",
              "  <tbody>\n",
              "    <tr>\n",
              "      <th>0</th>\n",
              "      <td>3</td>\n",
              "      <td>10289</td>\n",
              "      <td>1</td>\n",
              "    </tr>\n",
              "    <tr>\n",
              "      <th>0</th>\n",
              "      <td>3</td>\n",
              "      <td>15592</td>\n",
              "      <td>2</td>\n",
              "    </tr>\n",
              "    <tr>\n",
              "      <th>0</th>\n",
              "      <td>3</td>\n",
              "      <td>2410</td>\n",
              "      <td>3</td>\n",
              "    </tr>\n",
              "    <tr>\n",
              "      <th>0</th>\n",
              "      <td>3</td>\n",
              "      <td>284</td>\n",
              "      <td>4</td>\n",
              "    </tr>\n",
              "    <tr>\n",
              "      <th>0</th>\n",
              "      <td>3</td>\n",
              "      <td>164</td>\n",
              "      <td>5</td>\n",
              "    </tr>\n",
              "    <tr>\n",
              "      <th>0</th>\n",
              "      <td>3</td>\n",
              "      <td>5990</td>\n",
              "      <td>6</td>\n",
              "    </tr>\n",
              "    <tr>\n",
              "      <th>0</th>\n",
              "      <td>3</td>\n",
              "      <td>9947</td>\n",
              "      <td>7</td>\n",
              "    </tr>\n",
              "    <tr>\n",
              "      <th>0</th>\n",
              "      <td>3</td>\n",
              "      <td>14109</td>\n",
              "      <td>8</td>\n",
              "    </tr>\n",
              "    <tr>\n",
              "      <th>0</th>\n",
              "      <td>3</td>\n",
              "      <td>8162</td>\n",
              "      <td>9</td>\n",
              "    </tr>\n",
              "    <tr>\n",
              "      <th>0</th>\n",
              "      <td>3</td>\n",
              "      <td>7185</td>\n",
              "      <td>10</td>\n",
              "    </tr>\n",
              "    <tr>\n",
              "      <th>1</th>\n",
              "      <td>11</td>\n",
              "      <td>13562</td>\n",
              "      <td>1</td>\n",
              "    </tr>\n",
              "    <tr>\n",
              "      <th>1</th>\n",
              "      <td>11</td>\n",
              "      <td>1182</td>\n",
              "      <td>2</td>\n",
              "    </tr>\n",
              "  </tbody>\n",
              "</table>\n",
              "</div>\n",
              "    <div class=\"colab-df-buttons\">\n",
              "\n",
              "  <div class=\"colab-df-container\">\n",
              "    <button class=\"colab-df-convert\" onclick=\"convertToInteractive('df-e84e3583-e161-438f-a119-0f430b24b596')\"\n",
              "            title=\"Convert this dataframe to an interactive table.\"\n",
              "            style=\"display:none;\">\n",
              "\n",
              "  <svg xmlns=\"http://www.w3.org/2000/svg\" height=\"24px\" viewBox=\"0 -960 960 960\">\n",
              "    <path d=\"M120-120v-720h720v720H120Zm60-500h600v-160H180v160Zm220 220h160v-160H400v160Zm0 220h160v-160H400v160ZM180-400h160v-160H180v160Zm440 0h160v-160H620v160ZM180-180h160v-160H180v160Zm440 0h160v-160H620v160Z\"/>\n",
              "  </svg>\n",
              "    </button>\n",
              "\n",
              "  <style>\n",
              "    .colab-df-container {\n",
              "      display:flex;\n",
              "      gap: 12px;\n",
              "    }\n",
              "\n",
              "    .colab-df-convert {\n",
              "      background-color: #E8F0FE;\n",
              "      border: none;\n",
              "      border-radius: 50%;\n",
              "      cursor: pointer;\n",
              "      display: none;\n",
              "      fill: #1967D2;\n",
              "      height: 32px;\n",
              "      padding: 0 0 0 0;\n",
              "      width: 32px;\n",
              "    }\n",
              "\n",
              "    .colab-df-convert:hover {\n",
              "      background-color: #E2EBFA;\n",
              "      box-shadow: 0px 1px 2px rgba(60, 64, 67, 0.3), 0px 1px 3px 1px rgba(60, 64, 67, 0.15);\n",
              "      fill: #174EA6;\n",
              "    }\n",
              "\n",
              "    .colab-df-buttons div {\n",
              "      margin-bottom: 4px;\n",
              "    }\n",
              "\n",
              "    [theme=dark] .colab-df-convert {\n",
              "      background-color: #3B4455;\n",
              "      fill: #D2E3FC;\n",
              "    }\n",
              "\n",
              "    [theme=dark] .colab-df-convert:hover {\n",
              "      background-color: #434B5C;\n",
              "      box-shadow: 0px 1px 3px 1px rgba(0, 0, 0, 0.15);\n",
              "      filter: drop-shadow(0px 1px 2px rgba(0, 0, 0, 0.3));\n",
              "      fill: #FFFFFF;\n",
              "    }\n",
              "  </style>\n",
              "\n",
              "    <script>\n",
              "      const buttonEl =\n",
              "        document.querySelector('#df-e84e3583-e161-438f-a119-0f430b24b596 button.colab-df-convert');\n",
              "      buttonEl.style.display =\n",
              "        google.colab.kernel.accessAllowed ? 'block' : 'none';\n",
              "\n",
              "      async function convertToInteractive(key) {\n",
              "        const element = document.querySelector('#df-e84e3583-e161-438f-a119-0f430b24b596');\n",
              "        const dataTable =\n",
              "          await google.colab.kernel.invokeFunction('convertToInteractive',\n",
              "                                                    [key], {});\n",
              "        if (!dataTable) return;\n",
              "\n",
              "        const docLinkHtml = 'Like what you see? Visit the ' +\n",
              "          '<a target=\"_blank\" href=https://colab.research.google.com/notebooks/data_table.ipynb>data table notebook</a>'\n",
              "          + ' to learn more about interactive tables.';\n",
              "        element.innerHTML = '';\n",
              "        dataTable['output_type'] = 'display_data';\n",
              "        await google.colab.output.renderOutput(dataTable, element);\n",
              "        const docLink = document.createElement('div');\n",
              "        docLink.innerHTML = docLinkHtml;\n",
              "        element.appendChild(docLink);\n",
              "      }\n",
              "    </script>\n",
              "  </div>\n",
              "\n",
              "\n",
              "<div id=\"df-a3618636-9f1c-41d5-b25a-46a4b12f41f8\">\n",
              "  <button class=\"colab-df-quickchart\" onclick=\"quickchart('df-a3618636-9f1c-41d5-b25a-46a4b12f41f8')\"\n",
              "            title=\"Suggest charts\"\n",
              "            style=\"display:none;\">\n",
              "\n",
              "<svg xmlns=\"http://www.w3.org/2000/svg\" height=\"24px\"viewBox=\"0 0 24 24\"\n",
              "     width=\"24px\">\n",
              "    <g>\n",
              "        <path d=\"M19 3H5c-1.1 0-2 .9-2 2v14c0 1.1.9 2 2 2h14c1.1 0 2-.9 2-2V5c0-1.1-.9-2-2-2zM9 17H7v-7h2v7zm4 0h-2V7h2v10zm4 0h-2v-4h2v4z\"/>\n",
              "    </g>\n",
              "</svg>\n",
              "  </button>\n",
              "\n",
              "<style>\n",
              "  .colab-df-quickchart {\n",
              "      --bg-color: #E8F0FE;\n",
              "      --fill-color: #1967D2;\n",
              "      --hover-bg-color: #E2EBFA;\n",
              "      --hover-fill-color: #174EA6;\n",
              "      --disabled-fill-color: #AAA;\n",
              "      --disabled-bg-color: #DDD;\n",
              "  }\n",
              "\n",
              "  [theme=dark] .colab-df-quickchart {\n",
              "      --bg-color: #3B4455;\n",
              "      --fill-color: #D2E3FC;\n",
              "      --hover-bg-color: #434B5C;\n",
              "      --hover-fill-color: #FFFFFF;\n",
              "      --disabled-bg-color: #3B4455;\n",
              "      --disabled-fill-color: #666;\n",
              "  }\n",
              "\n",
              "  .colab-df-quickchart {\n",
              "    background-color: var(--bg-color);\n",
              "    border: none;\n",
              "    border-radius: 50%;\n",
              "    cursor: pointer;\n",
              "    display: none;\n",
              "    fill: var(--fill-color);\n",
              "    height: 32px;\n",
              "    padding: 0;\n",
              "    width: 32px;\n",
              "  }\n",
              "\n",
              "  .colab-df-quickchart:hover {\n",
              "    background-color: var(--hover-bg-color);\n",
              "    box-shadow: 0 1px 2px rgba(60, 64, 67, 0.3), 0 1px 3px 1px rgba(60, 64, 67, 0.15);\n",
              "    fill: var(--button-hover-fill-color);\n",
              "  }\n",
              "\n",
              "  .colab-df-quickchart-complete:disabled,\n",
              "  .colab-df-quickchart-complete:disabled:hover {\n",
              "    background-color: var(--disabled-bg-color);\n",
              "    fill: var(--disabled-fill-color);\n",
              "    box-shadow: none;\n",
              "  }\n",
              "\n",
              "  .colab-df-spinner {\n",
              "    border: 2px solid var(--fill-color);\n",
              "    border-color: transparent;\n",
              "    border-bottom-color: var(--fill-color);\n",
              "    animation:\n",
              "      spin 1s steps(1) infinite;\n",
              "  }\n",
              "\n",
              "  @keyframes spin {\n",
              "    0% {\n",
              "      border-color: transparent;\n",
              "      border-bottom-color: var(--fill-color);\n",
              "      border-left-color: var(--fill-color);\n",
              "    }\n",
              "    20% {\n",
              "      border-color: transparent;\n",
              "      border-left-color: var(--fill-color);\n",
              "      border-top-color: var(--fill-color);\n",
              "    }\n",
              "    30% {\n",
              "      border-color: transparent;\n",
              "      border-left-color: var(--fill-color);\n",
              "      border-top-color: var(--fill-color);\n",
              "      border-right-color: var(--fill-color);\n",
              "    }\n",
              "    40% {\n",
              "      border-color: transparent;\n",
              "      border-right-color: var(--fill-color);\n",
              "      border-top-color: var(--fill-color);\n",
              "    }\n",
              "    60% {\n",
              "      border-color: transparent;\n",
              "      border-right-color: var(--fill-color);\n",
              "    }\n",
              "    80% {\n",
              "      border-color: transparent;\n",
              "      border-right-color: var(--fill-color);\n",
              "      border-bottom-color: var(--fill-color);\n",
              "    }\n",
              "    90% {\n",
              "      border-color: transparent;\n",
              "      border-bottom-color: var(--fill-color);\n",
              "    }\n",
              "  }\n",
              "</style>\n",
              "\n",
              "  <script>\n",
              "    async function quickchart(key) {\n",
              "      const quickchartButtonEl =\n",
              "        document.querySelector('#' + key + ' button');\n",
              "      quickchartButtonEl.disabled = true;  // To prevent multiple clicks.\n",
              "      quickchartButtonEl.classList.add('colab-df-spinner');\n",
              "      try {\n",
              "        const charts = await google.colab.kernel.invokeFunction(\n",
              "            'suggestCharts', [key], {});\n",
              "      } catch (error) {\n",
              "        console.error('Error during call to suggestCharts:', error);\n",
              "      }\n",
              "      quickchartButtonEl.classList.remove('colab-df-spinner');\n",
              "      quickchartButtonEl.classList.add('colab-df-quickchart-complete');\n",
              "    }\n",
              "    (() => {\n",
              "      let quickchartButtonEl =\n",
              "        document.querySelector('#df-a3618636-9f1c-41d5-b25a-46a4b12f41f8 button');\n",
              "      quickchartButtonEl.style.display =\n",
              "        google.colab.kernel.accessAllowed ? 'block' : 'none';\n",
              "    })();\n",
              "  </script>\n",
              "</div>\n",
              "\n",
              "    </div>\n",
              "  </div>\n"
            ],
            "application/vnd.google.colaboratory.intrinsic+json": {
              "type": "dataframe",
              "variable_name": "recs"
            }
          },
          "metadata": {},
          "execution_count": 206
        }
      ]
    },
    {
      "cell_type": "code",
      "source": [
        "compute_metrics(interactions_df, test, recs, 10)"
      ],
      "metadata": {
        "colab": {
          "base_uri": "https://localhost:8080/"
        },
        "id": "PcbI1XsnQwGW",
        "outputId": "b74b0298-c885-42ff-8c70-0dfce0dfda3c"
      },
      "execution_count": null,
      "outputs": [
        {
          "output_type": "execute_result",
          "data": {
            "text/plain": [
              "MAP@10         0.022929\n",
              "Novelty@10    15.320492\n",
              "dtype: float64"
            ]
          },
          "metadata": {},
          "execution_count": 208
        }
      ]
    },
    {
      "cell_type": "code",
      "source": [],
      "metadata": {
        "id": "l33aEiZAudpL"
      },
      "execution_count": null,
      "outputs": []
    }
  ]
}
